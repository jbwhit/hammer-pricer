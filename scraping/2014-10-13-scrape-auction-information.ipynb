{
 "metadata": {
  "name": "",
  "signature": "sha256:06b079a19fcf5b90d3464497a7d52c1fe30742466ebf59e8455d23c836fd630a"
 },
 "nbformat": 3,
 "nbformat_minor": 0,
 "worksheets": [
  {
   "cells": [
    {
     "cell_type": "code",
     "collapsed": false,
     "input": [
      "#!/usr/bin/env python\n",
      "\n",
      "%matplotlib inline\n",
      "\n",
      "from bs4 import BeautifulSoup\n",
      "from glob import glob\n",
      "from selenium import webdriver\n",
      "from selenium.webdriver.common.keys import Keys\n",
      "import cookielib\n",
      "import json\n",
      "import math\n",
      "import matplotlib.pyplot as plt\n",
      "import mechanize\n",
      "import numpy as np\n",
      "import os\n",
      "import pandas as pd\n",
      "import pandas.io.sql as psql\n",
      "import pickle\n",
      "import pymysql as mdb\n",
      "import re\n",
      "import requests\n",
      "import string\n",
      "import sys\n",
      "import time\n",
      "import unicodedata\n",
      "import urllib\n",
      "import urllib2\n"
     ],
     "language": "python",
     "metadata": {},
     "outputs": [],
     "prompt_number": 1
    },
    {
     "cell_type": "code",
     "collapsed": false,
     "input": [
      "artists = {}\n",
      "\n",
      "for infile in sorted(glob(\"../artists/names_*txt\")):\n",
      "    keyname = ''.join(infile.split(\"/\")[-1].split(\".\")[0].split(\"_\")[1:])\n",
      "    artists[keyname] = []\n",
      "    with open(infile, 'r') as file_handle:\n",
      "        for rline in file_handle.readlines():\n",
      "            artists[keyname].append(rline.strip())"
     ],
     "language": "python",
     "metadata": {},
     "outputs": [],
     "prompt_number": 2
    },
    {
     "cell_type": "code",
     "collapsed": false,
     "input": [
      "artists['abstractexpressionism'][0]"
     ],
     "language": "python",
     "metadata": {},
     "outputs": [
      {
       "metadata": {},
       "output_type": "pyout",
       "prompt_number": 3,
       "text": [
        "'Aaron Siskind'"
       ]
      }
     ],
     "prompt_number": 3
    },
    {
     "cell_type": "code",
     "collapsed": false,
     "input": [
      "hand_cultivated_list = ['10251/sam-francis',\n",
      "                         '10298/helen-frankenthaler',\n",
      "                         '108323/elmer-nelson-bischoff',\n",
      "                         '11682/arshile-gorky',\n",
      "                         '11716/adolph-gottlieb',\n",
      "                         '11898/morris-cole-graves',\n",
      "                         '11979/richard-stankiewicz',\n",
      "                         '120233/perle-fine',\n",
      "                         '12389/philip-guston',\n",
      "                         '12850/grace-hartigan',\n",
      "                         '13123/al-held',\n",
      "                         '135074/alma-woolsey-thomas',\n",
      "                         '14751/jasper-johns',\n",
      "                         '15498/franz-kline',\n",
      "                         '15820/lee-krasner',\n",
      "                         '17360/rita-letendre',\n",
      "                         '1761/william-baziotes',\n",
      "                         '17952/morris-louis',\n",
      "                         '18279/george-mcneil',\n",
      "                         '19187/roberto-matta',\n",
      "                         '193240/norman-wilfred-lewis',\n",
      "                         '19945/joan-mitchell',\n",
      "                         '20537/robert-motherwell',\n",
      "                         '21043/louise-nevelson',\n",
      "                         '21052/barnett-newman',\n",
      "                         '21257/kenneth-noland',\n",
      "                         '21520/jules-olitski',\n",
      "                         '21742/alfonso-ossorio',\n",
      "                         '225523/lester-l--johnson',\n",
      "                         '23185/jackson-pollock',\n",
      "                         '24077/ad-reinhardt',\n",
      "                         '24190/milton-resnick',\n",
      "                         '25021/mark-rothko',\n",
      "                         '251530/joseph-marioni',\n",
      "                         '266633/alfred-viggo-jensen',\n",
      "                         '26765/aaron-siskind',\n",
      "                         '27300/theodoros-stamos',\n",
      "                         '27512/clyfford-e--still',\n",
      "                         '28011/antoni-tapies',\n",
      "                         '28495/mark-tobey',\n",
      "                         '28957/cy-twombly',\n",
      "                         '28958/jack-tworkov',\n",
      "                         '2907/norman-bluhm',\n",
      "                         '29655/esteban-vicente',\n",
      "                         '31184/adja-yunkers',\n",
      "                         '32280/ibram-lassaw',\n",
      "                         '327132/james-brooks',\n",
      "                         '33409/nell-blaine',\n",
      "                         '3547/louise-bourgeois',\n",
      "                         '38579/george-wellman-morrison',\n",
      "                         '394619/alfred-immanuel-jensen',\n",
      "                         '3989/james-brooks',\n",
      "                         '42273/herbert-ferber',\n",
      "                         '42531/alberto-burri',\n",
      "                         '444931/raphael-collazo',\n",
      "                         '567405/david-burnham-smith',\n",
      "                         '57005/seymour-lipton',\n",
      "                         '58481/stephen-greene',\n",
      "                         '58485/cleve-gray',\n",
      "                         '60862/gertrude-greene',\n",
      "                         '7082/gene-davis',\n",
      "                         '711/karel-appel',\n",
      "                         '71489/balcomb-greene',\n",
      "                         '72286/lawrence-calcagno',\n",
      "                         '72967/alfred-v--jensen',\n",
      "                         '73554/david-hare',\n",
      "                         '77024/mary-callery',\n",
      "                         '82853/edward-dugmore',\n",
      "                         '83534/albert-kotin',\n",
      "                         '8585/isamu-noguchi',\n",
      "                         '9718/john-millard-ferren']"
     ],
     "language": "python",
     "metadata": {},
     "outputs": [],
     "prompt_number": 4
    },
    {
     "cell_type": "code",
     "collapsed": false,
     "input": [
      "def readSqlSelectIntoPandasDf(sql_command):\n",
      "    ''' Read a select statement into a panda dataframe '''\n",
      "    mysql_cn= mdb.connect('localhost', 'root','','abstrart_db')\n",
      "    df = psql.frame_query(sql_command, con=mysql_cn)\n",
      "    mysql_cn.close()\n",
      "    return df\n",
      "\n",
      "def loginToArtPrice():\n",
      "    browser = mechanize.Browser()\n",
      "    artprice_url = 'http://www.artprice.com/identity'\n",
      "    browser.open(artprice_url)\n",
      "    browser.select_form(nr = 0)\n",
      "    with open('ap.config', 'r') as file_handle:\n",
      "        credentials = json.load(file_handle)\n",
      "    username = credentials[\"username\"]\n",
      "    password = credentials[\"password\"]\n",
      "    browser.form['login'] = username\n",
      "    browser.form['pass'] = password\n",
      "    browser.submit()\n",
      "    return browser"
     ],
     "language": "python",
     "metadata": {},
     "outputs": [],
     "prompt_number": 5
    },
    {
     "cell_type": "code",
     "collapsed": false,
     "input": [
      "class artPriceBrowser(object):\n",
      "    '''\n",
      "        Here we login to ArtPrice.com with the user account from the homepage\n",
      "        Sleeps are required for page to completely load\n",
      "    '''\n",
      "    \n",
      "    def __init__(self, username, password):\n",
      "        driver = webdriver.Chrome('/usr/bin/chromedriver')\n",
      "        print 'finished the driver'\n",
      "        driver.get(\"http://artprice.com/identity\")\n",
      "        print 'b4 sleep'\n",
      "        time.sleep(1)\n",
      "        print 'after sleep'\n",
      "        elem = driver.find_element_by_id(\"login\")\n",
      "        elem.send_keys(username)\n",
      "        elem = driver.find_element_by_id(\"pass\")\n",
      "        elem.send_keys(password)\n",
      "        elem = driver.find_element_by_name(\"commit\")\n",
      "        elem.click()\n",
      "        print 'supposedly logged in before sleep 2'\n",
      "        time.sleep(2)\n",
      "        print 'after sleep 2'\n",
      "        self._driver = driver\n",
      "    \n",
      "    def downloadHtml(self):\n",
      "        elem = self._driver.find_element_by_xpath(\"//*\")\n",
      "        source_code = elem.get_attribute(\"outerHTML\")\n",
      "        return source_code\n",
      "    \n",
      "    def saveHtml(self, html_source, file_dir, file_name):\n",
      "        full_name = os.path.join(file_dir,file_name+'.html') \n",
      "        f = open(full_name, 'w')\n",
      "        f.write(html_source.encode('utf-8'))\n",
      "        f.close()\n",
      "        \n",
      "    def getArtistPage(self, artist_link, page_number, scroll = 5):\n",
      "        prefix_url = 'http://www.artprice.com/artist/'\n",
      "        suffix_url = '/lots/futures?iso3=USD&p=%s&sort=price_desc&unite_to=cm' %(page_number)\n",
      "        tmp_url = '%s%s%s' %(prefix_url, artist_link, suffix_url)\n",
      "        self._driver.get(tmp_url)\n",
      "        time.sleep(2)\n",
      "        for i in range(scroll):\n",
      "            self._driver.execute_script(\"window.scrollTo(0, document.body.scrollHeight);\")\n",
      "            time.sleep(1)\n",
      "        return self.downloadHtml()\n",
      "    \n",
      "    def saveArtistPage(self, artist_link, page_number, file_name, file_dir = '../auctions_html/', scroll = 5):\n",
      "        prefix_url = 'http://www.artprice.com/artist/'\n",
      "        suffix_url = '/lots/futures?iso3=USD&p=%s&sort=price_desc&unite_to=cm' %(page_number)\n",
      "        tmp_url = '%s%s%s' %(prefix_url, artist_link, suffix_url)\n",
      "        self._driver.get(tmp_url)\n",
      "        time.sleep(1)\n",
      "        for i in range(scroll):\n",
      "            self._driver.execute_script(\"window.scrollTo(0, document.body.scrollHeight);\")\n",
      "            time.sleep(1)\n",
      "        html_source = self.downloadHtml()\n",
      "        return self.saveHtml(html_source, file_dir, file_name)\n",
      "    \n",
      "    def logOut(self):\n",
      "        elem = self._driver.find_element_by_id(\"logout_lnk\")\n",
      "        elem.click()\n",
      "        \n",
      "\n",
      "def readSqlSelectIntoPandasDf(sql_command):\n",
      "    ''' Read a select statement into a panda dataframe '''\n",
      "    mysql_cn= mdb.connect('localhost', 'root','','abstrart_db')\n",
      "    df = psql.frame_query(sql_command, con=mysql_cn)\n",
      "    mysql_cn.close()\n",
      "    return df"
     ],
     "language": "python",
     "metadata": {},
     "outputs": [],
     "prompt_number": 6
    },
    {
     "cell_type": "code",
     "collapsed": false,
     "input": [
      "with open('ap.config', 'r') as file_handle:\n",
      "    credentials = json.load(file_handle)\n",
      "    \n",
      "username = credentials[\"username\"]\n",
      "password = credentials[\"password\"]\n",
      "\n",
      "browser = artPriceBrowser(username, password)"
     ],
     "language": "python",
     "metadata": {},
     "outputs": [
      {
       "output_type": "stream",
       "stream": "stdout",
       "text": [
        "finished the driver\n",
        "b4 sleep"
       ]
      },
      {
       "output_type": "stream",
       "stream": "stdout",
       "text": [
        "\n",
        "after sleep"
       ]
      },
      {
       "output_type": "stream",
       "stream": "stdout",
       "text": [
        "\n",
        "supposedly logged in before sleep 2"
       ]
      },
      {
       "output_type": "stream",
       "stream": "stdout",
       "text": [
        "\n",
        "after sleep 2"
       ]
      },
      {
       "output_type": "stream",
       "stream": "stdout",
       "text": [
        "\n"
       ]
      }
     ],
     "prompt_number": 7
    },
    {
     "cell_type": "code",
     "collapsed": false,
     "input": [
      "# First, define the directory with the html files\n",
      "artists = hand_cultivated_list\n",
      "# Third, define where to save all auctions\n",
      "auction_id_regex = re.compile(\"(?:(?m)pasts/([0-9]{1,}))\")\n",
      "npages_regex = re.compile(\"(?:(?m)amp;p=([0-9]{0,}))\")\n",
      "minimum_tag_names_to_scrape = ['lsc_title', 'lsc_details', 'lsc_adjud', 'lsc_auctioneer', \n",
      "                               'lsc_country', 'lsc_link']\n",
      "optional_tag_names_to_scrape = ['lsc_estimate ', 'lsc_image']\n",
      "minimum_fields_dict = {'auction_id':0, 'auction_link':1, 'title':2, 'artist_id':3, 'artist_name':4, \n",
      "                       'category':5, 'medium':6, 'size_width':7, 'size_length':8, \n",
      "                       'sales_date_day':9, 'sales_date_month':10, 'sales_date_year':11, \n",
      "                       'auction_house_name':12, 'auction_house_city':13, 'auction_house_country':14, \n",
      "                       'hammer_price':15}\n",
      "optional_fields_dict = {'year_of_creation':16, 'low_estimate':17, 'high_estimate':18, 'img_link':19}"
     ],
     "language": "python",
     "metadata": {},
     "outputs": [],
     "prompt_number": 8
    },
    {
     "cell_type": "code",
     "collapsed": false,
     "input": [
      "# START SCRAPING ALL AUCTIONS FOR EACH ARTIST PAGE\n",
      "auction_count = 1\n",
      "cutoff = 5\n",
      "count = 1\n",
      "for artist_link in hand_cultivated_list[8:]:\n",
      "    page_number = 1 \n",
      "    artist_id = artist_link.split('/')[0]\n",
      "    artist_name = artist_link.split('/')[1]\n",
      "    try:\n",
      "        time.sleep(2)\n",
      "        # open the artist page with all the auction info on first page\n",
      "        artist_html_p1 = browser.getArtistPage(artist_link, page_number, scroll = 5)\n",
      "        soup = BeautifulSoup(artist_html_p1)\n",
      "        npages_match = npages_regex.findall(artist_html_p1)\n",
      "        npages_match = max([int(page) for page in npages_match])\n",
      "        print 'getting the links for %s from %s pages' %(artist_name, npages_match)\n",
      "        div = soup.find(id=\"lots\")\n",
      "        first_result_link = \"http://www.artprice.com\" + div.find('div', \n",
      "                                                                 attrs={'class':\"lot_sml_container\"}).find('a').get('href')\n",
      "        print count, first_result_link\n",
      "        art_id = first_result_link.split(\"lot/futures/\")[1].split(\"/\")[0]\n",
      "        file_name_stem = artist_id + '-' + artist_name.replace('-','') + '-' + art_id\n",
      "        for i in range(5):\n",
      "            browser._driver.execute_script(\"window.scrollTo(0, document.body.scrollHeight);\")\n",
      "            time.sleep(1)\n",
      "        page = browser.downloadHtml()\n",
      "        soup = BeautifulSoup(page)\n",
      "        div = soup.find(id=\"lots\")\n",
      "        for index, whatever in enumerate(div.findAll('div', attrs={'class':\"lot_sml_container\"})):\n",
      "            file_name_stem = \"../auctions_html/\"\n",
      "            blah = whatever.find('div',attrs={'class':\"lsc_title\"}).find('a').get('href').split(\"/\")\n",
      "            file_name_stem += '-'.join([blah[2],blah[3],blah[6]])\n",
      "            with open(file_name_stem + \".html\", 'w') as file_handle:\n",
      "                print >>file_handle, whatever\n",
      "            try:\n",
      "                jpeg_url = whatever.findAll('img',{'class':'img_repro'})[0]['src']\n",
      "                urllib.urlretrieve(jpeg_url, file_name_stem + \".jpg\")\n",
      "            except:\n",
      "                print \"No jpg for\", index\n",
      "                pass\n",
      "        for page_number in range(2, npages_match+1):\n",
      "            time.sleep(2)\n",
      "            artist_html_p1 = browser.getArtistPage(artist_link, page_number, scroll = 5)\n",
      "            soup = BeautifulSoup(artist_html_p1)\n",
      "            div = soup.find(id=\"lots\")\n",
      "            for index, whatever in enumerate(div.findAll('div', attrs={'class':\"lot_sml_container\"})):\n",
      "                file_name_stem = \"../auctions_html/\"\n",
      "                blah = whatever.find('div',attrs={'class':\"lsc_title\"}).find('a').get('href').split(\"/\")\n",
      "                file_name_stem += '-'.join([blah[2],blah[3],blah[6]])\n",
      "                with open(file_name_stem + \".html\", 'w') as file_handle:\n",
      "                    print >>file_handle, whatever\n",
      "                try:\n",
      "                    jpeg_url = whatever.findAll('img',{'class':'img_repro'})[0]['src']\n",
      "                    urllib.urlretrieve(jpeg_url, file_name_stem + \".jpg\")\n",
      "                except:\n",
      "                    print \"No jpg for\", artist_name, page_number, index\n",
      "                    pass\n",
      "    except:\n",
      "        print '(FirstTryFailed) auction %s, for artist %s, page %s, did not work' %(auction_count, artist_name, page_number)\n",
      "        print \"moving on!\"\n",
      "        time.sleep(5)"
     ],
     "language": "python",
     "metadata": {},
     "outputs": [
      {
       "output_type": "stream",
       "stream": "stdout",
       "text": [
        "getting the links for philip-guston from 1 pages\n",
        "1 http://www.artprice.com/artist/12389/philip-guston/lot/futures/8715439/magician-s-table?p=1&iso3=USD&sort=price_desc\n",
        "(FirstTryFailed) auction 1, for artist philip-guston, page 1, did not work"
       ]
      },
      {
       "output_type": "stream",
       "stream": "stdout",
       "text": [
        "\n",
        "moving on!\n",
        "getting the links for grace-hartigan from 1 pages"
       ]
      },
      {
       "output_type": "stream",
       "stream": "stdout",
       "text": [
        "\n",
        "1 http://www.artprice.com/artist/12850/grace-hartigan/lot/futures/8716262/theodora?p=1&iso3=USD&sort=price_desc\n",
        "(FirstTryFailed) auction 1, for artist grace-hartigan, page 1, did not work"
       ]
      },
      {
       "output_type": "stream",
       "stream": "stdout",
       "text": [
        "\n",
        "moving on!\n",
        "getting the links for al-held from 1 pages"
       ]
      },
      {
       "output_type": "stream",
       "stream": "stdout",
       "text": [
        "\n",
        "1 http://www.artprice.com/artist/13123/al-held/lot/futures/8720067/pace-ii?p=1&iso3=USD&sort=price_desc\n",
        "(FirstTryFailed) auction 1, for artist al-held, page 1, did not work"
       ]
      },
      {
       "output_type": "stream",
       "stream": "stdout",
       "text": [
        "\n",
        "moving on!\n",
        "getting the links for alma-woolsey-thomas from 1 pages"
       ]
      },
      {
       "output_type": "stream",
       "stream": "stdout",
       "text": [
        "\n",
        "(FirstTryFailed) auction 1, for artist alma-woolsey-thomas, page 1, did not work\n",
        "moving on!\n",
        "getting the links for jasper-johns from 1 pages"
       ]
      },
      {
       "output_type": "stream",
       "stream": "stdout",
       "text": [
        "\n",
        "1 http://www.artprice.com/artist/14751/jasper-johns/lot/futures/8718156/alphabet?p=1&iso3=USD&sort=price_desc\n",
        "(FirstTryFailed) auction 1, for artist jasper-johns, page 1, did not work"
       ]
      },
      {
       "output_type": "stream",
       "stream": "stdout",
       "text": [
        "\n",
        "moving on!\n",
        "getting the links for franz-kline from 1 pages"
       ]
      },
      {
       "output_type": "stream",
       "stream": "stdout",
       "text": [
        "\n",
        "(FirstTryFailed) auction 1, for artist franz-kline, page 1, did not work\n",
        "moving on!\n",
        "getting the links for lee-krasner from 1 pages"
       ]
      },
      {
       "output_type": "stream",
       "stream": "stdout",
       "text": [
        "\n",
        "(FirstTryFailed) auction 1, for artist lee-krasner, page 1, did not work\n",
        "moving on!\n",
        "getting the links for rita-letendre from 1 pages"
       ]
      },
      {
       "output_type": "stream",
       "stream": "stdout",
       "text": [
        "\n",
        "1 http://www.artprice.com/artist/17360/rita-letendre/lot/futures/8737659/reflet?p=1&iso3=USD&sort=price_desc\n",
        "(FirstTryFailed) auction 1, for artist rita-letendre, page 1, did not work"
       ]
      },
      {
       "output_type": "stream",
       "stream": "stdout",
       "text": [
        "\n",
        "moving on!\n",
        "getting the links for william-baziotes from 1 pages"
       ]
      },
      {
       "output_type": "stream",
       "stream": "stdout",
       "text": [
        "\n",
        "1 http://www.artprice.com/artist/1761/william-baziotes/lot/futures/8720099/fleur-du-mal?p=1&iso3=USD&sort=price_desc\n",
        "(FirstTryFailed) auction 1, for artist william-baziotes, page 1, did not work"
       ]
      },
      {
       "output_type": "stream",
       "stream": "stdout",
       "text": [
        "\n",
        "moving on!\n",
        "getting the links for morris-louis from 1 pages"
       ]
      },
      {
       "output_type": "stream",
       "stream": "stdout",
       "text": [
        "\n",
        "(FirstTryFailed) auction 1, for artist morris-louis, page 1, did not work\n",
        "moving on!\n",
        "getting the links for george-mcneil from 1 pages"
       ]
      },
      {
       "output_type": "stream",
       "stream": "stdout",
       "text": [
        "\n",
        "(FirstTryFailed) auction 1, for artist george-mcneil, page 1, did not work\n",
        "moving on!\n",
        "getting the links for roberto-matta from 1 pages"
       ]
      },
      {
       "output_type": "stream",
       "stream": "stdout",
       "text": [
        "\n",
        "1 http://www.artprice.com/artist/19187/roberto-matta/lot/futures/8716875/senza-titolo?p=1&iso3=USD&sort=price_desc\n",
        "(FirstTryFailed) auction 1, for artist roberto-matta, page 1, did not work"
       ]
      },
      {
       "output_type": "stream",
       "stream": "stdout",
       "text": [
        "\n",
        "moving on!\n",
        "getting the links for norman-wilfred-lewis from 1 pages"
       ]
      },
      {
       "output_type": "stream",
       "stream": "stdout",
       "text": [
        "\n",
        "(FirstTryFailed) auction 1, for artist norman-wilfred-lewis, page 1, did not work\n",
        "moving on!\n",
        "getting the links for joan-mitchell from 1 pages"
       ]
      },
      {
       "output_type": "stream",
       "stream": "stdout",
       "text": [
        "\n",
        "1 http://www.artprice.com/artist/19945/joan-mitchell/lot/futures/8719995/untitled?p=1&iso3=USD&sort=price_desc\n",
        "(FirstTryFailed) auction 1, for artist joan-mitchell, page 1, did not work"
       ]
      },
      {
       "output_type": "stream",
       "stream": "stdout",
       "text": [
        "\n",
        "moving on!\n",
        "getting the links for robert-motherwell from 1 pages"
       ]
      },
      {
       "output_type": "stream",
       "stream": "stdout",
       "text": [
        "\n",
        "1 http://www.artprice.com/artist/20537/robert-motherwell/lot/futures/8715075/man-in-grey?p=1&iso3=USD&sort=price_desc\n",
        "(FirstTryFailed) auction 1, for artist robert-motherwell, page 1, did not work"
       ]
      },
      {
       "output_type": "stream",
       "stream": "stdout",
       "text": [
        "\n",
        "moving on!\n",
        "getting the links for louise-nevelson from 1 pages"
       ]
      },
      {
       "output_type": "stream",
       "stream": "stdout",
       "text": [
        "\n",
        "1 http://www.artprice.com/artist/21043/louise-nevelson/lot/futures/8720104/small-column-vi?p=1&iso3=USD&sort=price_desc\n",
        "(FirstTryFailed) auction 1, for artist louise-nevelson, page 1, did not work"
       ]
      },
      {
       "output_type": "stream",
       "stream": "stdout",
       "text": [
        "\n",
        "moving on!\n",
        "getting the links for barnett-newman from 1 pages"
       ]
      },
      {
       "output_type": "stream",
       "stream": "stdout",
       "text": [
        "\n",
        "1 http://www.artprice.com/artist/21052/barnett-newman/lot/futures/8746023/note-i-from-notes?p=1&iso3=USD&sort=price_desc\n",
        "(FirstTryFailed) auction 1, for artist barnett-newman, page 1, did not work"
       ]
      },
      {
       "output_type": "stream",
       "stream": "stdout",
       "text": [
        "\n",
        "moving on!\n",
        "getting the links for kenneth-noland from 1 pages"
       ]
      },
      {
       "output_type": "stream",
       "stream": "stdout",
       "text": [
        "\n",
        "1 http://www.artprice.com/artist/21257/kenneth-noland/lot/futures/8720012/sun-bouquet?p=1&iso3=USD&sort=price_desc\n",
        "(FirstTryFailed) auction 1, for artist kenneth-noland, page 1, did not work"
       ]
      },
      {
       "output_type": "stream",
       "stream": "stdout",
       "text": [
        "\n",
        "moving on!\n",
        "getting the links for jules-olitski from 1 pages"
       ]
      },
      {
       "output_type": "stream",
       "stream": "stdout",
       "text": [
        "\n",
        "(FirstTryFailed) auction 1, for artist jules-olitski, page 1, did not work\n",
        "moving on!\n",
        "getting the links for alfonso-ossorio from 1 pages"
       ]
      },
      {
       "output_type": "stream",
       "stream": "stdout",
       "text": [
        "\n",
        "1 http://www.artprice.com/artist/21742/alfonso-ossorio/lot/futures/8733387/in-a-wood-lightly?p=1&iso3=USD&sort=price_desc\n",
        "(FirstTryFailed) auction 1, for artist alfonso-ossorio, page 1, did not work"
       ]
      },
      {
       "output_type": "stream",
       "stream": "stdout",
       "text": [
        "\n",
        "moving on!\n",
        "getting the links for lester-l--johnson from 1 pages"
       ]
      },
      {
       "output_type": "stream",
       "stream": "stdout",
       "text": [
        "\n",
        "(FirstTryFailed) auction 1, for artist lester-l--johnson, page 1, did not work\n",
        "moving on!\n",
        "getting the links for jackson-pollock from 1 pages"
       ]
      },
      {
       "output_type": "stream",
       "stream": "stdout",
       "text": [
        "\n",
        "(FirstTryFailed) auction 1, for artist jackson-pollock, page 1, did not work\n",
        "moving on!\n",
        "getting the links for ad-reinhardt from 1 pages"
       ]
      },
      {
       "output_type": "stream",
       "stream": "stdout",
       "text": [
        "\n",
        "1 http://www.artprice.com/artist/24077/ad-reinhardt/lot/futures/8715076/untitled?p=1&iso3=USD&sort=price_desc\n",
        "(FirstTryFailed) auction 1, for artist ad-reinhardt, page 1, did not work"
       ]
      },
      {
       "output_type": "stream",
       "stream": "stdout",
       "text": [
        "\n",
        "moving on!\n",
        "getting the links for milton-resnick from 1 pages"
       ]
      },
      {
       "output_type": "stream",
       "stream": "stdout",
       "text": [
        "\n",
        "1 http://www.artprice.com/artist/24190/milton-resnick/lot/futures/8724103/you-and-me?p=1&iso3=USD&sort=price_desc\n",
        "(FirstTryFailed) auction 1, for artist milton-resnick, page 1, did not work"
       ]
      },
      {
       "output_type": "stream",
       "stream": "stdout",
       "text": [
        "\n",
        "moving on!\n",
        "getting the links for mark-rothko from 1 pages"
       ]
      },
      {
       "output_type": "stream",
       "stream": "stdout",
       "text": [
        "\n",
        "(FirstTryFailed) auction 1, for artist mark-rothko, page 1, did not work\n",
        "moving on!\n",
        "getting the links for joseph-marioni from 1 pages"
       ]
      },
      {
       "output_type": "stream",
       "stream": "stdout",
       "text": [
        "\n",
        "1 http://www.artprice.com/artist/251530/joseph-marioni/lot/futures/8720081/painting-1-77?p=1&iso3=USD&sort=price_desc\n",
        "(FirstTryFailed) auction 1, for artist joseph-marioni, page 1, did not work"
       ]
      },
      {
       "output_type": "stream",
       "stream": "stdout",
       "text": [
        "\n",
        "moving on!\n",
        "getting the links for alfred-viggo-jensen from 1 pages"
       ]
      },
      {
       "output_type": "stream",
       "stream": "stdout",
       "text": [
        "\n",
        "(FirstTryFailed) auction 1, for artist alfred-viggo-jensen, page 1, did not work\n",
        "moving on!\n",
        "getting the links for aaron-siskind from 1 pages"
       ]
      },
      {
       "output_type": "stream",
       "stream": "stdout",
       "text": [
        "\n",
        "1 http://www.artprice.com/artist/26765/aaron-siskind/lot/futures/8716788/st-louis-9?p=1&iso3=USD&sort=price_desc\n",
        "(FirstTryFailed) auction 1, for artist aaron-siskind, page 1, did not work"
       ]
      },
      {
       "output_type": "stream",
       "stream": "stdout",
       "text": [
        "\n",
        "moving on!\n",
        "getting the links for theodoros-stamos from 1 pages"
       ]
      },
      {
       "output_type": "stream",
       "stream": "stdout",
       "text": [
        "\n",
        "1 http://www.artprice.com/artist/27300/theodoros-stamos/lot/futures/8723987/after-mark-rothko-tapestry?p=1&iso3=USD&sort=price_desc\n",
        "(FirstTryFailed) auction 1, for artist theodoros-stamos, page 1, did not work"
       ]
      },
      {
       "output_type": "stream",
       "stream": "stdout",
       "text": [
        "\n",
        "moving on!\n",
        "getting the links for clyfford-e--still from 1 pages"
       ]
      },
      {
       "output_type": "stream",
       "stream": "stdout",
       "text": [
        "\n",
        "(FirstTryFailed) auction 1, for artist clyfford-e--still, page 1, did not work\n",
        "moving on!\n",
        "getting the links for antoni-tapies from 1 pages"
       ]
      },
      {
       "output_type": "stream",
       "stream": "stdout",
       "text": [
        "\n",
        "1 http://www.artprice.com/artist/28011/antoni-tapies/lot/futures/8718136/circle-ii-figure?p=1&iso3=USD&sort=price_desc\n",
        "(FirstTryFailed) auction 1, for artist antoni-tapies, page 1, did not work"
       ]
      },
      {
       "output_type": "stream",
       "stream": "stdout",
       "text": [
        "\n",
        "moving on!\n",
        "getting the links for mark-tobey from 1 pages"
       ]
      },
      {
       "output_type": "stream",
       "stream": "stdout",
       "text": [
        "\n",
        "1 http://www.artprice.com/artist/28495/mark-tobey/lot/futures/8749938/ohne-titel?p=1&iso3=USD&sort=price_desc\n",
        "(FirstTryFailed) auction 1, for artist mark-tobey, page 1, did not work"
       ]
      },
      {
       "output_type": "stream",
       "stream": "stdout",
       "text": [
        "\n",
        "moving on!\n",
        "getting the links for cy-twombly from 1 pages"
       ]
      },
      {
       "output_type": "stream",
       "stream": "stdout",
       "text": [
        "\n",
        "(FirstTryFailed) auction 1, for artist cy-twombly, page 1, did not work\n",
        "moving on!\n",
        "getting the links for jack-tworkov from 1 pages"
       ]
      },
      {
       "output_type": "stream",
       "stream": "stdout",
       "text": [
        "\n",
        "1 http://www.artprice.com/artist/28958/jack-tworkov/lot/futures/8715440/queen-ii?p=1&iso3=USD&sort=price_desc\n",
        "(FirstTryFailed) auction 1, for artist jack-tworkov, page 1, did not work"
       ]
      },
      {
       "output_type": "stream",
       "stream": "stdout",
       "text": [
        "\n",
        "moving on!\n",
        "getting the links for norman-bluhm from 1 pages"
       ]
      },
      {
       "output_type": "stream",
       "stream": "stdout",
       "text": [
        "\n",
        "1 http://www.artprice.com/artist/2907/norman-bluhm/lot/futures/8720091/white-over?p=1&iso3=USD&sort=price_desc\n",
        "(FirstTryFailed) auction 1, for artist norman-bluhm, page 1, did not work"
       ]
      },
      {
       "output_type": "stream",
       "stream": "stdout",
       "text": [
        "\n",
        "moving on!\n",
        "getting the links for esteban-vicente from 1 pages"
       ]
      },
      {
       "output_type": "stream",
       "stream": "stdout",
       "text": [
        "\n",
        "1 http://www.artprice.com/artist/29655/esteban-vicente/lot/futures/8715926/untitled?p=1&iso3=USD&sort=price_desc\n",
        "(FirstTryFailed) auction 1, for artist esteban-vicente, page 1, did not work"
       ]
      },
      {
       "output_type": "stream",
       "stream": "stdout",
       "text": [
        "\n",
        "moving on!\n",
        "getting the links for adja-yunkers from 1 pages"
       ]
      },
      {
       "output_type": "stream",
       "stream": "stdout",
       "text": [
        "\n",
        "(FirstTryFailed) auction 1, for artist adja-yunkers, page 1, did not work\n",
        "moving on!\n",
        "getting the links for ibram-lassaw from 1 pages"
       ]
      },
      {
       "output_type": "stream",
       "stream": "stdout",
       "text": [
        "\n",
        "(FirstTryFailed) auction 1, for artist ibram-lassaw, page 1, did not work\n",
        "moving on!\n",
        "getting the links for james-brooks from 1 pages"
       ]
      },
      {
       "output_type": "stream",
       "stream": "stdout",
       "text": [
        "\n",
        "(FirstTryFailed) auction 1, for artist james-brooks, page 1, did not work\n",
        "moving on!\n",
        "getting the links for nell-blaine from 1 pages"
       ]
      },
      {
       "output_type": "stream",
       "stream": "stdout",
       "text": [
        "\n",
        "(FirstTryFailed) auction 1, for artist nell-blaine, page 1, did not work\n",
        "moving on!\n",
        "(FirstTryFailed) auction 1, for artist louise-bourgeois, page 1, did not work"
       ]
      },
      {
       "output_type": "stream",
       "stream": "stdout",
       "text": [
        "\n",
        "moving on!\n",
        "getting the links for george-wellman-morrison from 1 pages"
       ]
      },
      {
       "output_type": "stream",
       "stream": "stdout",
       "text": [
        "\n",
        "(FirstTryFailed) auction 1, for artist george-wellman-morrison, page 1, did not work\n",
        "moving on!\n",
        "getting the links for alfred-immanuel-jensen from 1 pages"
       ]
      },
      {
       "output_type": "stream",
       "stream": "stdout",
       "text": [
        "\n",
        "(FirstTryFailed) auction 1, for artist alfred-immanuel-jensen, page 1, did not work\n",
        "moving on!\n",
        "getting the links for james-brooks from 1 pages"
       ]
      },
      {
       "output_type": "stream",
       "stream": "stdout",
       "text": [
        "\n",
        "1 http://www.artprice.com/artist/3989/james-brooks/lot/futures/8720102/untitled?p=1&iso3=USD&sort=price_desc\n",
        "(FirstTryFailed) auction 1, for artist james-brooks, page 1, did not work"
       ]
      },
      {
       "output_type": "stream",
       "stream": "stdout",
       "text": [
        "\n",
        "moving on!\n",
        "getting the links for herbert-ferber from 1 pages"
       ]
      },
      {
       "output_type": "stream",
       "stream": "stdout",
       "text": [
        "\n",
        "(FirstTryFailed) auction 1, for artist herbert-ferber, page 1, did not work\n",
        "moving on!\n",
        "getting the links for alberto-burri from 1 pages"
       ]
      },
      {
       "output_type": "stream",
       "stream": "stdout",
       "text": [
        "\n",
        "1 http://www.artprice.com/artist/42531/alberto-burri/lot/futures/8740665/cretto?p=1&iso3=USD&sort=price_desc\n",
        "(FirstTryFailed) auction 1, for artist alberto-burri, page 1, did not work"
       ]
      },
      {
       "output_type": "stream",
       "stream": "stdout",
       "text": [
        "\n",
        "moving on!\n",
        "getting the links for raphael-collazo from 1 pages"
       ]
      },
      {
       "output_type": "stream",
       "stream": "stdout",
       "text": [
        "\n",
        "(FirstTryFailed) auction 1, for artist raphael-collazo, page 1, did not work\n",
        "moving on!\n",
        "getting the links for david-burnham-smith from 1 pages"
       ]
      },
      {
       "output_type": "stream",
       "stream": "stdout",
       "text": [
        "\n",
        "1 http://www.artprice.com/artist/567405/david-burnham-smith/lot/futures/8747469/st-george-11-plaque?p=1&iso3=USD&sort=price_desc\n",
        "(FirstTryFailed) auction 1, for artist david-burnham-smith, page 1, did not work"
       ]
      },
      {
       "output_type": "stream",
       "stream": "stdout",
       "text": [
        "\n",
        "moving on!\n",
        "getting the links for seymour-lipton from 1 pages"
       ]
      },
      {
       "output_type": "stream",
       "stream": "stdout",
       "text": [
        "\n",
        "(FirstTryFailed) auction 1, for artist seymour-lipton, page 1, did not work\n",
        "moving on!\n",
        "getting the links for stephen-greene from 1 pages"
       ]
      },
      {
       "output_type": "stream",
       "stream": "stdout",
       "text": [
        "\n",
        "(FirstTryFailed) auction 1, for artist stephen-greene, page 1, did not work\n",
        "moving on!\n",
        "getting the links for cleve-gray from 1 pages"
       ]
      },
      {
       "output_type": "stream",
       "stream": "stdout",
       "text": [
        "\n",
        "(FirstTryFailed) auction 1, for artist cleve-gray, page 1, did not work\n",
        "moving on!\n",
        "getting the links for gertrude-greene from 1 pages"
       ]
      },
      {
       "output_type": "stream",
       "stream": "stdout",
       "text": [
        "\n",
        "(FirstTryFailed) auction 1, for artist gertrude-greene, page 1, did not work\n",
        "moving on!\n",
        "getting the links for gene-davis from 1 pages"
       ]
      },
      {
       "output_type": "stream",
       "stream": "stdout",
       "text": [
        "\n",
        "1 http://www.artprice.com/artist/7082/gene-davis/lot/futures/8720065/roman-candle?p=1&iso3=USD&sort=price_desc\n",
        "(FirstTryFailed) auction 1, for artist gene-davis, page 1, did not work"
       ]
      },
      {
       "output_type": "stream",
       "stream": "stdout",
       "text": [
        "\n",
        "moving on!\n",
        "getting the links for karel-appel from 1 pages"
       ]
      },
      {
       "output_type": "stream",
       "stream": "stdout",
       "text": [
        "\n",
        "1 http://www.artprice.com/artist/711/karel-appel/lot/futures/8720113/standing-elephant-circus-series?p=1&iso3=USD&sort=price_desc\n",
        "(FirstTryFailed) auction 1, for artist karel-appel, page 1, did not work"
       ]
      },
      {
       "output_type": "stream",
       "stream": "stdout",
       "text": [
        "\n",
        "moving on!\n",
        "getting the links for balcomb-greene from 1 pages"
       ]
      },
      {
       "output_type": "stream",
       "stream": "stdout",
       "text": [
        "\n",
        "(FirstTryFailed) auction 1, for artist balcomb-greene, page 1, did not work\n",
        "moving on!\n",
        "getting the links for lawrence-calcagno from 1 pages"
       ]
      },
      {
       "output_type": "stream",
       "stream": "stdout",
       "text": [
        "\n",
        "(FirstTryFailed) auction 1, for artist lawrence-calcagno, page 1, did not work\n",
        "moving on!\n",
        "getting the links for alfred-v--jensen from 1 pages"
       ]
      },
      {
       "output_type": "stream",
       "stream": "stdout",
       "text": [
        "\n",
        "(FirstTryFailed) auction 1, for artist alfred-v--jensen, page 1, did not work\n",
        "moving on!\n",
        "getting the links for david-hare from 1 pages"
       ]
      },
      {
       "output_type": "stream",
       "stream": "stdout",
       "text": [
        "\n",
        "1 http://www.artprice.com/artist/73554/david-hare/lot/futures/8739953/mountain-sky-no-1?p=1&iso3=USD&sort=price_desc\n",
        "getting the links for mary-callery from 1 pages"
       ]
      },
      {
       "output_type": "stream",
       "stream": "stdout",
       "text": [
        "\n",
        "(FirstTryFailed) auction 1, for artist mary-callery, page 1, did not work\n",
        "moving on!\n",
        "getting the links for edward-dugmore from 1 pages"
       ]
      },
      {
       "output_type": "stream",
       "stream": "stdout",
       "text": [
        "\n",
        "1 http://www.artprice.com/artist/82853/edward-dugmore/lot/futures/8720097/metart-series-15?p=1&iso3=USD&sort=price_desc\n",
        "(FirstTryFailed) auction 1, for artist edward-dugmore, page 1, did not work"
       ]
      },
      {
       "output_type": "stream",
       "stream": "stdout",
       "text": [
        "\n",
        "moving on!\n",
        "getting the links for albert-kotin from 1 pages"
       ]
      },
      {
       "output_type": "stream",
       "stream": "stdout",
       "text": [
        "\n",
        "(FirstTryFailed) auction 1, for artist albert-kotin, page 1, did not work\n",
        "moving on!\n",
        "getting the links for isamu-noguchi from 1 pages"
       ]
      },
      {
       "output_type": "stream",
       "stream": "stdout",
       "text": [
        "\n",
        "1 http://www.artprice.com/artist/8585/isamu-noguchi/lot/futures/8715907/mannari?p=1&iso3=USD&sort=price_desc\n",
        "(FirstTryFailed) auction 1, for artist isamu-noguchi, page 1, did not work"
       ]
      },
      {
       "output_type": "stream",
       "stream": "stdout",
       "text": [
        "\n",
        "moving on!\n",
        "getting the links for john-millard-ferren from 1 pages"
       ]
      },
      {
       "output_type": "stream",
       "stream": "stdout",
       "text": [
        "\n",
        "(FirstTryFailed) auction 1, for artist john-millard-ferren, page 1, did not work\n",
        "moving on!\n"
       ]
      }
     ],
     "prompt_number": 12
    }
   ],
   "metadata": {}
  }
 ]
}